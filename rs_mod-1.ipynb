{
 "cells": [
  {
   "cell_type": "code",
   "execution_count": 1,
   "metadata": {},
   "outputs": [],
   "source": [
    "import numpy as np\n",
    "from sklearn.model_selection import train_test_split\n",
    "from sklearn.svm import SVC"
   ]
  },
  {
   "cell_type": "code",
   "execution_count": 2,
   "metadata": {},
   "outputs": [],
   "source": [
    "with open(\"D:/杂物/RS/train data/band_data_water.txt\",encoding=\"utf-8\") as file_txt:\n",
    "    water_data_list=file_txt.read().split('\\n')\n",
    "with open('D:/杂物/RS/train data/band_data_other.txt',encoding=\"utf-8\") as file_txt:\n",
    "    other_data_list=file_txt.read().split('\\n')"
   ]
  },
  {
   "cell_type": "code",
   "execution_count": 3,
   "metadata": {},
   "outputs": [
    {
     "data": {
      "text/plain": [
       "array([1., 1., 1., 1., 1., 1., 1., 1., 1., 1., 1., 1., 1., 1., 1., 1., 1.,\n",
       "       1., 1., 1., 1., 1., 1., 1., 1., 1., 1., 1., 1., 1., 0., 0., 0., 0.,\n",
       "       0., 0., 0., 0., 0., 0., 0., 0., 0., 0., 0., 0., 0., 0., 0., 0., 0.,\n",
       "       0., 0., 0., 0., 0., 0., 0., 0., 0.])"
      ]
     },
     "execution_count": 3,
     "metadata": {},
     "output_type": "execute_result"
    }
   ],
   "source": [
    "water_band_vec=[]\n",
    "for str_value in water_data_list:\n",
    "    try:\n",
    "        water_band_vec.append([int(i) for i in str_value.split(',')])\n",
    "    except:\n",
    "        pass\n",
    "other_band_vec=[]\n",
    "for str_value in other_data_list:\n",
    "    try:\n",
    "        other_band_vec.append([int(i) for i in str_value.split(',')])\n",
    "    except:\n",
    "        pass\n",
    "x=np.array(water_band_vec+other_band_vec)\n",
    "y=np.concatenate((np.ones(len(water_band_vec)),np.zeros(len(other_band_vec))))\n",
    "X_train,X_test,Y_train,Y_test=train_test_split(x,y,test_size=0.3,random_state=3)\n",
    "y"
   ]
  },
  {
   "cell_type": "code",
   "execution_count": 4,
   "metadata": {},
   "outputs": [
    {
     "data": {
      "text/plain": [
       "0.6111111111111112"
      ]
     },
     "execution_count": 4,
     "metadata": {},
     "output_type": "execute_result"
    }
   ],
   "source": [
    "rs_mod=SVC(kernel=\"rbf\",C=0.8)\n",
    "rs_mod.fit(X_train,Y_train)\n",
    "rs_mod.score(X_test,Y_test)"
   ]
  }
 ],
 "metadata": {
  "interpreter": {
   "hash": "7442ff2f99941c6eb6a6c72f2655c3096a529ea1c8eaa7dc05dc74111d77c941"
  },
  "kernelspec": {
   "display_name": "Python 3.10.1 64-bit",
   "language": "python",
   "name": "python3"
  },
  "language_info": {
   "codemirror_mode": {
    "name": "ipython",
    "version": 3
   },
   "file_extension": ".py",
   "mimetype": "text/x-python",
   "name": "python",
   "nbconvert_exporter": "python",
   "pygments_lexer": "ipython3",
   "version": "3.10.1"
  },
  "orig_nbformat": 4
 },
 "nbformat": 4,
 "nbformat_minor": 2
}
