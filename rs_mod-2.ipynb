{
 "cells": [
  {
   "cell_type": "code",
   "execution_count": 2,
   "metadata": {},
   "outputs": [
    {
     "data": {
      "text/plain": [
       "(['1.tif',\n",
       "  '10.tif',\n",
       "  '2.tif',\n",
       "  '3.tif',\n",
       "  '4.tif',\n",
       "  '5.tif',\n",
       "  '6.tif',\n",
       "  '7.tif',\n",
       "  '8.tif',\n",
       "  '9.tif'],\n",
       " ['10.tif',\n",
       "  '2.tif',\n",
       "  '3.tif',\n",
       "  '4.tif',\n",
       "  '5.tif',\n",
       "  '6.tif',\n",
       "  '7.tif',\n",
       "  '8.tif',\n",
       "  '9.tif'])"
      ]
     },
     "execution_count": 2,
     "metadata": {},
     "output_type": "execute_result"
    }
   ],
   "source": [
    "import os\n",
    "from osgeo import gdal\n",
    "import numpy as np\n",
    "def get_dir_file_names(dir_name=\"\"):\n",
    "    \"\"\"\n",
    "    获得指定目录下的所有文件名称\n",
    "    :param dir_name: str\n",
    "    :return: list\n",
    "    \"\"\"\n",
    "    out=[]\n",
    "    for file_root,dirs,files in os.walk(dir_name):\n",
    "        for file in files:\n",
    "            out.append(file)\n",
    "    return out\n",
    "    \n",
    "\n",
    "\n",
    "def get_tif_bands(tif_file=r\"\"):\n",
    "    \"\"\"\n",
    "    获取图像像元点信息\n",
    "    \"\"\"\n",
    "    out=[]\n",
    "    dataset=gdal.Open(tif_file,gdal.GA_ReadOnly)\n",
    "    tif_x_size=dataset.RasterXSize\n",
    "    tif_y_size=dataset.RasterYSize\n",
    "    for row in range(tif_x_size):\n",
    "        for column in range(tif_y_size):\n",
    "            pass\n",
    "\n",
    "water_tif_list=get_dir_file_names(dir_name=r\"D:/杂物/RS/train data/水体/\")\n",
    "other_tif_list=get_dir_file_names(dir_name=r\"D:/杂物/RS/train data/非水体/\")\n",
    "water_tif_list,other_tif_list\n",
    "\n"
   ]
  }
 ],
 "metadata": {
  "interpreter": {
   "hash": "7442ff2f99941c6eb6a6c72f2655c3096a529ea1c8eaa7dc05dc74111d77c941"
  },
  "kernelspec": {
   "display_name": "Python 3.10.1 64-bit",
   "language": "python",
   "name": "python3"
  },
  "language_info": {
   "codemirror_mode": {
    "name": "ipython",
    "version": 3
   },
   "file_extension": ".py",
   "mimetype": "text/x-python",
   "name": "python",
   "nbconvert_exporter": "python",
   "pygments_lexer": "ipython3",
   "version": "3.10.1"
  },
  "orig_nbformat": 4
 },
 "nbformat": 4,
 "nbformat_minor": 2
}
